{
 "cells": [
  {
   "cell_type": "code",
   "execution_count": 13,
   "metadata": {
    "pycharm": {
     "is_executing": false,
     "metadata": false,
     "name": "#%%\n"
    }
   },
   "outputs": [],
   "source": [
    "import numpy as np\n",
    "import cv2 as cv\n",
    "import math\n",
    "\n"
   ]
  },
  {
   "cell_type": "code",
   "execution_count": 9,
   "metadata": {
    "pycharm": {
     "is_executing": false,
     "metadata": false,
     "name": "#%%\n"
    }
   },
   "outputs": [
    {
     "data": {
      "text/plain": [
       "15"
      ]
     },
     "execution_count": 9,
     "metadata": {},
     "output_type": "execute_result"
    }
   ],
   "source": [
    "import numpy as np\n",
    "a =[1,2,3,4,5]\n",
    "np.sum(a)\n"
   ]
  },
  {
   "cell_type": "code",
   "execution_count": 5,
   "metadata": {
    "pycharm": {
     "is_executing": false,
     "metadata": false,
     "name": "#%%\n"
    }
   },
   "outputs": [
    {
     "name": "stdout",
     "output_type": "stream",
     "text": [
      "===============================================================================\n",
      "*                                                                             *\n",
      "*   Interpreter :                                                             *\n",
      "*       python : 3.7.1 (v3.7.1:260ec2c36a, Oct 20 2018, 14:57:15) [MSC        *\n",
      "*   v.1915 64 bit (AMD64)]                                                    *\n",
      "*                                                                             *\n",
      "*   colour-science.org :                                                      *\n",
      "*       colour : 0.3.14                                                       *\n",
      "*       colour-demosaicing : 0.1.5                                            *\n",
      "*                                                                             *\n",
      "*   Runtime :                                                                 *\n",
      "*       imageio : 2.6.1                                                       *\n",
      "*       matplotlib : 3.1.1                                                    *\n",
      "*       numpy : 1.16.4                                                        *\n",
      "*       pandas : 0.24.2                                                       *\n",
      "*       scipy : 1.3.0                                                         *\n",
      "*       six : 1.12.0                                                          *\n",
      "*                                                                             *\n",
      "===============================================================================\n",
      "[[[  0   0  65]\n",
      "  [  0  75   0]\n",
      "  [  0   0 145]\n",
      "  ..., \n",
      "  [  0  30   0]\n",
      "  [  0   0  74]\n",
      "  [  0  30   0]]\n",
      "\n",
      " [[  0  55   0]\n",
      "  [178   0   0]\n",
      "  [  0 127   0]\n",
      "  ..., \n",
      "  [ 33   0   0]\n",
      "  [  0  32   0]\n",
      "  [ 35   0   0]]\n",
      "\n",
      " [[  0   0  66]\n",
      "  [  0  80   0]\n",
      "  [  0   0 155]\n",
      "  ..., \n",
      "  [  0  31   0]\n",
      "  [  0   0  79]\n",
      "  [  0  31   0]]\n",
      "\n",
      " ..., \n",
      " [[  0   0  49]\n",
      "  [  0  45   0]\n",
      "  [  0   0  52]\n",
      "  ..., \n",
      "  [  0  28   0]\n",
      "  [  0   0  67]\n",
      "  [  0  27   0]]\n",
      "\n",
      " [[  0  45   0]\n",
      "  [ 90   0   0]\n",
      "  [  0  42   0]\n",
      "  ..., \n",
      "  [ 22   0   0]\n",
      "  [  0  28   0]\n",
      "  [ 26   0   0]]\n",
      "\n",
      " [[  0   0  50]\n",
      "  [  0  42   0]\n",
      "  [  0   0  48]\n",
      "  ..., \n",
      "  [  0  26   0]\n",
      "  [  0   0  63]\n",
      "  [  0  28   0]]]\n",
      "(609, 750)\n",
      "(609, 750, 3)\n",
      "6.01586590517617\n"
     ]
    }
   ],
   "source": [
    "from __future__ import division\n",
    "\n",
    "import os\n",
    "\n",
    "import colour\n",
    "import matplotlib.pyplot as plt\n",
    "import numpy as np\n",
    "\n",
    "from colour.plotting import *\n",
    "import cv2 as cv\n",
    "import math \n",
    "\n",
    "from colour_demosaicing import (\n",
    "    EXAMPLES_RESOURCES_DIRECTORY,\n",
    "    demosaicing_CFA_Bayer_bilinear,\n",
    "    demosaicing_CFA_Bayer_Malvar2004,\n",
    "    demosaicing_CFA_Bayer_Menon2007,\n",
    "    mosaicing_CFA_Bayer)\n",
    "\n",
    "cctf_encoding = colour.cctf_encoding\n",
    "\n",
    "colour.utilities.filter_warnings()\n",
    "\n",
    "colour.utilities.describe_environment()\n",
    "\n",
    "def psnr(img, background):\n",
    "    error = np.abs(img - background)\n",
    "    square_error = np.multiply(error, error)\n",
    "\n",
    "    mse = np.sum(square_error) / (img.shape[0] * img.shape[1])\n",
    "    psnr = 20 * math.log10(np.max(img)) - 10 * math.log10(mse)\n",
    "\n",
    "    return psnr\n",
    "\n",
    "\n",
    "img = cv.imread('./Img002.png',1)\n",
    "# cv.imshow('original', img)\n",
    "img = np.asarray(img)\n",
    "print(img)\n",
    "grey = img[:,:,0]+img[:,:,1]+img[:,:,2]\n",
    "\n",
    "# mosaic = mosaicing_CFA_Bayer(img)\n",
    "#cv.imshow('mosaic', cctf_encoding(mosaic))\n",
    "\n",
    "demosaic = demosaicing_CFA_Bayer_Menon2007(grey.astype(np.uint8))\n",
    "r= demosaic[:,:,0]\n",
    "g = demosaic[:,:,1]\n",
    "b = demosaic[:,:,2]\n",
    "print(r.shape)\n",
    "b = np.reshape(b,[b.shape[0],b.shape[1],1])\n",
    "g = np.reshape(g,[b.shape[0],b.shape[1],1])\n",
    "r = np.reshape(r,[b.shape[0],b.shape[1],1])\n",
    "\n",
    "bgr = np.concatenate([b,g,r],2)\n",
    "print(bgr.shape)\n",
    "# cv.imshow('demosic', bgr.astype(np.uint8))\n",
    "# cv.waitKey(0)\n",
    "\n",
    "print(psnr(demosaic,img))\n"
   ]
  },
  {
   "cell_type": "code",
   "execution_count": 4,
   "metadata": {
    "pycharm": {
     "is_executing": false,
     "metadata": false,
     "name": "#%%\n"
    }
   },
   "outputs": [
    {
     "data": {
      "text/plain": [
       "array([ 2,  6, 12])"
      ]
     },
     "execution_count": 4,
     "metadata": {},
     "output_type": "execute_result"
    }
   ],
   "source": [
    "a =[1,2,3]\n",
    "b=[2,3,4]\n",
    "np.multiply(a,b)"
   ]
  }
 ],
 "metadata": {
  "kernelspec": {
   "display_name": "Python 3",
   "language": "python",
   "name": "python3"
  },
  "language_info": {
   "codemirror_mode": {
    "name": "ipython",
    "version": 3
   },
   "file_extension": ".py",
   "mimetype": "text/x-python",
   "name": "python",
   "nbconvert_exporter": "python",
   "pygments_lexer": "ipython3",
   "version": "3.7.3"
  },
  "stem_cell": {
   "cell_type": "raw",
   "metadata": {
    "pycharm": {
     "metadata": false
    }
   },
   "source": ""
  }
 },
 "nbformat": 4,
 "nbformat_minor": 1
}
