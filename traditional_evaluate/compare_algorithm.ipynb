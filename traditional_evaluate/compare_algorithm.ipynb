{
  "cells": [
    {
      "cell_type": "code",
      "execution_count": 13,
      "outputs": [],
      "source": "import numpy as np\nimport cv2 as cv\nimport math\n\n",
      "metadata": {
        "pycharm": {
          "metadata": false,
          "name": "#%%\n",
          "is_executing": false
        }
      }
    },
    {
      "cell_type": "code",
      "execution_count": 9,
      "outputs": [
        {
          "data": {
            "text/plain": "15"
          },
          "metadata": {},
          "output_type": "execute_result",
          "execution_count": 9
        }
      ],
      "source": "import numpy as np\na \u003d[1,2,3,4,5]\nnp.sum(a)\n",
      "metadata": {
        "pycharm": {
          "metadata": false,
          "name": "#%%\n",
          "is_executing": false
        }
      }
    },
    {
      "cell_type": "code",
      "execution_count": 5,
      "outputs": [
        {
          "name": "stdout",
          "text": [
            "\u003d\u003d\u003d\u003d\u003d\u003d\u003d\u003d\u003d\u003d\u003d\u003d\u003d\u003d\u003d\u003d\u003d\u003d\u003d\u003d\u003d\u003d\u003d\u003d\u003d\u003d\u003d\u003d\u003d\u003d\u003d\u003d\u003d\u003d\u003d\u003d\u003d\u003d\u003d\u003d\u003d\u003d\u003d\u003d\u003d\u003d\u003d\u003d\u003d\u003d\u003d\u003d\u003d\u003d\u003d\u003d\u003d\u003d\u003d\u003d\u003d\u003d\u003d\u003d\u003d\u003d\u003d\u003d\u003d\u003d\u003d\u003d\u003d\u003d\u003d\u003d\u003d\u003d\u003d\n*                                                                             *\n*   Interpreter :                                                             *\n*       python : 3.7.1 (v3.7.1:260ec2c36a, Oct 20 2018, 14:57:15) [MSC        *\n*   v.1915 64 bit (AMD64)]                                                    *\n*                                                                             *\n*   colour-science.org :                                                      *\n*       colour : 0.3.14                                                       *\n*       colour-demosaicing : 0.1.5                                            *\n*                                                                             *\n*   Runtime :                                                                 *\n*       imageio : 2.6.1                                                       *\n*       matplotlib : 3.1.1                                                    *\n*       numpy : 1.16.4                                                        *\n*       pandas : 0.24.2                                                       *\n*       scipy : 1.3.0                                                         *\n*       six : 1.12.0                                                          *\n*                                                                             *\n\u003d\u003d\u003d\u003d\u003d\u003d\u003d\u003d\u003d\u003d\u003d\u003d\u003d\u003d\u003d\u003d\u003d\u003d\u003d\u003d\u003d\u003d\u003d\u003d\u003d\u003d\u003d\u003d\u003d\u003d\u003d\u003d\u003d\u003d\u003d\u003d\u003d\u003d\u003d\u003d\u003d\u003d\u003d\u003d\u003d\u003d\u003d\u003d\u003d\u003d\u003d\u003d\u003d\u003d\u003d\u003d\u003d\u003d\u003d\u003d\u003d\u003d\u003d\u003d\u003d\u003d\u003d\u003d\u003d\u003d\u003d\u003d\u003d\u003d\u003d\u003d\u003d\u003d\u003d\n[[[  0   0  65]\n  [  0  75   0]\n  [  0   0 145]\n  ..., \n  [  0  30   0]\n  [  0   0  74]\n  [  0  30   0]]\n\n [[  0  55   0]\n  [178   0   0]\n  [  0 127   0]\n  ..., \n  [ 33   0   0]\n  [  0  32   0]\n  [ 35   0   0]]\n\n [[  0   0  66]\n  [  0  80   0]\n  [  0   0 155]\n  ..., \n  [  0  31   0]\n  [  0   0  79]\n  [  0  31   0]]\n\n ..., \n [[  0   0  49]\n  [  0  45   0]\n  [  0   0  52]\n  ..., \n  [  0  28   0]\n  [  0   0  67]\n  [  0  27   0]]\n\n [[  0  45   0]\n  [ 90   0   0]\n  [  0  42   0]\n  ..., \n  [ 22   0   0]\n  [  0  28   0]\n  [ 26   0   0]]\n\n [[  0   0  50]\n  [  0  42   0]\n  [  0   0  48]\n  ..., \n  [  0  26   0]\n  [  0   0  63]\n  [  0  28   0]]]\n",
            "(609, 750)\n(609, 750, 3)\n6.01586590517617\n"
          ],
          "output_type": "stream"
        }
      ],
      "source": "from __future__ import division\n\nimport os\n\nimport colour\nimport matplotlib.pyplot as plt\nimport numpy as np\n\nfrom colour.plotting import *\nimport cv2 as cv\nimport math \n\nfrom colour_demosaicing import (\n    EXAMPLES_RESOURCES_DIRECTORY,\n    demosaicing_CFA_Bayer_bilinear,\n    demosaicing_CFA_Bayer_Malvar2004,\n    demosaicing_CFA_Bayer_Menon2007,\n    mosaicing_CFA_Bayer)\n\ncctf_encoding \u003d colour.cctf_encoding\n\ncolour.utilities.filter_warnings()\n\ncolour.utilities.describe_environment()\n\ndef psnr(img, background):\n    error \u003d np.abs(img - background)\n    square_error \u003d np.multiply(error, error)\n\n    mse \u003d np.sum(square_error) / (img.shape[0] * img.shape[1])\n    psnr \u003d 20 * math.log10(np.max(img)) - 10 * math.log10(mse)\n\n    return psnr\n\n\nimg \u003d cv.imread(\u0027./Img002.png\u0027,1)\n# cv.imshow(\u0027original\u0027, img)\nimg \u003d np.asarray(img)\nprint(img)\ngrey \u003d img[:,:,0]+img[:,:,1]+img[:,:,2]\n\n# mosaic \u003d mosaicing_CFA_Bayer(img)\n#cv.imshow(\u0027mosaic\u0027, cctf_encoding(mosaic))\n\ndemosaic \u003d demosaicing_CFA_Bayer_Menon2007(grey.astype(np.uint8))\nr\u003d demosaic[:,:,0]\ng \u003d demosaic[:,:,1]\nb \u003d demosaic[:,:,2]\nprint(r.shape)\nb \u003d np.reshape(b,[b.shape[0],b.shape[1],1])\ng \u003d np.reshape(g,[b.shape[0],b.shape[1],1])\nr \u003d np.reshape(r,[b.shape[0],b.shape[1],1])\n\nbgr \u003d np.concatenate([b,g,r],2)\nprint(bgr.shape)\n# cv.imshow(\u0027demosic\u0027, bgr.astype(np.uint8))\n# cv.waitKey(0)\n\nprint(psnr(demosaic,img))\n",
      "metadata": {
        "pycharm": {
          "metadata": false,
          "name": "#%%\n",
          "is_executing": false
        }
      }
    },
    {
      "cell_type": "code",
      "execution_count": 4,
      "outputs": [
        {
          "data": {
            "text/plain": "array([ 2,  6, 12])"
          },
          "metadata": {},
          "output_type": "execute_result",
          "execution_count": 4
        }
      ],
      "source": "a \u003d[1,2,3]\nb\u003d[2,3,4]\nnp.multiply(a,b)",
      "metadata": {
        "pycharm": {
          "metadata": false,
          "name": "#%%\n",
          "is_executing": false
        }
      }
    }
  ],
  "metadata": {
    "language_info": {
      "codemirror_mode": {
        "name": "ipython",
        "version": 2
      },
      "file_extension": ".py",
      "mimetype": "text/x-python",
      "name": "python",
      "nbconvert_exporter": "python",
      "pygments_lexer": "ipython2",
      "version": "2.7.6"
    },
    "kernelspec": {
      "name": "python3",
      "language": "python",
      "display_name": "Python 3"
    },
    "stem_cell": {
      "cell_type": "raw",
      "source": "",
      "metadata": {
        "pycharm": {
          "metadata": false
        }
      }
    }
  },
  "nbformat": 4,
  "nbformat_minor": 0
}